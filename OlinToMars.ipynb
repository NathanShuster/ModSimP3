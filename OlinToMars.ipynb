{
 "cells": [
  {
   "cell_type": "code",
   "execution_count": 92,
   "metadata": {
    "collapsed": false
   },
   "outputs": [
    {
     "name": "stdout",
     "output_type": "stream",
     "text": [
      "2.4003132404321104\n",
      "2.4495060683036964\n",
      "2.4990972025424067\n",
      "2.5490915003455132\n",
      "2.5994938982082356\n",
      "2.6503094135486247\n",
      "2.701543146372577\n"
     ]
    },
    {
     "ename": "OverflowError",
     "evalue": "(34, 'Result too large')",
     "output_type": "error",
     "traceback": [
      "\u001b[0;31m---------------------------------------------------------------------------\u001b[0m",
      "\u001b[0;31mOverflowError\u001b[0m                             Traceback (most recent call last)",
      "\u001b[0;32m<ipython-input-92-08af5eb8ef2e>\u001b[0m in \u001b[0;36m<module>\u001b[0;34m()\u001b[0m\n\u001b[1;32m    115\u001b[0m     \u001b[0mpos_list\u001b[0m\u001b[0;34m.\u001b[0m\u001b[0mappend\u001b[0m\u001b[0;34m(\u001b[0m\u001b[0msum\u001b[0m\u001b[0;34m(\u001b[0m\u001b[0mvelocity_list\u001b[0m\u001b[0;34m)\u001b[0m\u001b[0;34m)\u001b[0m\u001b[0;34m\u001b[0m\u001b[0m\n\u001b[1;32m    116\u001b[0m     \u001b[0mrho_list\u001b[0m\u001b[0;34m.\u001b[0m\u001b[0mappend\u001b[0m\u001b[0;34m(\u001b[0m\u001b[0mrho\u001b[0m\u001b[0;34m(\u001b[0m\u001b[0mpressure\u001b[0m\u001b[0;34m(\u001b[0m\u001b[0mpos_list\u001b[0m\u001b[0;34m[\u001b[0m\u001b[0mtime\u001b[0m \u001b[0;34m-\u001b[0m \u001b[0;36m1\u001b[0m\u001b[0;34m]\u001b[0m\u001b[0;34m)\u001b[0m\u001b[0;34m,\u001b[0m \u001b[0mtemp\u001b[0m\u001b[0;34m(\u001b[0m\u001b[0mpos_list\u001b[0m\u001b[0;34m[\u001b[0m\u001b[0mtime\u001b[0m \u001b[0;34m-\u001b[0m \u001b[0;36m1\u001b[0m\u001b[0;34m]\u001b[0m\u001b[0;34m)\u001b[0m\u001b[0;34m)\u001b[0m\u001b[0;34m)\u001b[0m\u001b[0;34m\u001b[0m\u001b[0m\n\u001b[0;32m--> 117\u001b[0;31m     \u001b[0mdrag_list\u001b[0m\u001b[0;34m.\u001b[0m\u001b[0mappend\u001b[0m\u001b[0;34m(\u001b[0m\u001b[0mdrag\u001b[0m\u001b[0;34m(\u001b[0m\u001b[0mpos_list\u001b[0m\u001b[0;34m[\u001b[0m\u001b[0mtime\u001b[0m \u001b[0;34m-\u001b[0m \u001b[0;36m1\u001b[0m\u001b[0;34m]\u001b[0m\u001b[0;34m,\u001b[0m \u001b[0mvelocity_list\u001b[0m\u001b[0;34m[\u001b[0m\u001b[0mtime\u001b[0m \u001b[0;34m-\u001b[0m \u001b[0;36m1\u001b[0m\u001b[0;34m]\u001b[0m\u001b[0;34m)\u001b[0m\u001b[0;34m)\u001b[0m\u001b[0;34m\u001b[0m\u001b[0m\n\u001b[0m\u001b[1;32m    118\u001b[0m     \u001b[0mdrag_acc\u001b[0m\u001b[0;34m.\u001b[0m\u001b[0mappend\u001b[0m\u001b[0;34m(\u001b[0m\u001b[0mdrag_list\u001b[0m\u001b[0;34m[\u001b[0m\u001b[0mtime\u001b[0m \u001b[0;34m-\u001b[0m \u001b[0;36m1\u001b[0m\u001b[0;34m]\u001b[0m \u001b[0;34m/\u001b[0m \u001b[0mmass_list\u001b[0m\u001b[0;34m[\u001b[0m\u001b[0mtime\u001b[0m \u001b[0;34m-\u001b[0m \u001b[0;36m1\u001b[0m\u001b[0;34m]\u001b[0m\u001b[0;34m)\u001b[0m\u001b[0;34m\u001b[0m\u001b[0m\n\u001b[1;32m    119\u001b[0m \u001b[0;34m\u001b[0m\u001b[0m\n",
      "\u001b[0;32m<ipython-input-92-08af5eb8ef2e>\u001b[0m in \u001b[0;36mdrag\u001b[0;34m(alt, vel)\u001b[0m\n\u001b[1;32m     89\u001b[0m     \u001b[0;31m#getcontext().prec = 6\u001b[0m\u001b[0;34m\u001b[0m\u001b[0;34m\u001b[0m\u001b[0m\n\u001b[1;32m     90\u001b[0m \u001b[0;34m\u001b[0m\u001b[0m\n\u001b[0;32m---> 91\u001b[0;31m     \u001b[0;32mreturn\u001b[0m \u001b[0mround\u001b[0m\u001b[0;34m(\u001b[0m\u001b[0;36m0.5\u001b[0m \u001b[0;34m*\u001b[0m \u001b[0mround\u001b[0m\u001b[0;34m(\u001b[0m\u001b[0mrho\u001b[0m\u001b[0;34m(\u001b[0m\u001b[0mtemp\u001b[0m\u001b[0;34m(\u001b[0m\u001b[0malt\u001b[0m\u001b[0;34m)\u001b[0m\u001b[0;34m,\u001b[0m \u001b[0mpressure\u001b[0m\u001b[0;34m(\u001b[0m\u001b[0malt\u001b[0m\u001b[0;34m)\u001b[0m\u001b[0;34m)\u001b[0m\u001b[0;34m,\u001b[0m \u001b[0;36m5\u001b[0m\u001b[0;34m)\u001b[0m \u001b[0;34m*\u001b[0m \u001b[0mround\u001b[0m\u001b[0;34m(\u001b[0m\u001b[0mvel\u001b[0m\u001b[0;34m**\u001b[0m\u001b[0;36m2\u001b[0m\u001b[0;34m,\u001b[0m \u001b[0;36m5\u001b[0m\u001b[0;34m)\u001b[0m \u001b[0;34m*\u001b[0m \u001b[0mCd\u001b[0m \u001b[0;34m*\u001b[0m \u001b[0mA\u001b[0m\u001b[0;34m,\u001b[0m \u001b[0;36m6\u001b[0m\u001b[0;34m)\u001b[0m\u001b[0;34m\u001b[0m\u001b[0m\n\u001b[0m\u001b[1;32m     92\u001b[0m \u001b[0;34m\u001b[0m\u001b[0m\n\u001b[1;32m     93\u001b[0m \u001b[0;34m\u001b[0m\u001b[0m\n",
      "\u001b[0;31mOverflowError\u001b[0m: (34, 'Result too large')"
     ]
    }
   ],
   "source": [
    "import math\n",
    "import matplotlib.pyplot as plt\n",
    "%matplotlib inline\n",
    "number_of_engines = 5000\n",
    "fuel_burned_per_second = 40\n",
    "max_fuel = 10000 * number_of_engines\n",
    "m_empty = 2000\n",
    "\n",
    "def m(t):\n",
    "    return m_empty + m_fuel(t)\n",
    "\n",
    "def m_fuel(t):\n",
    "    return max(max_fuel - (t * fuel_burned_per_second) * number_of_engines, 0)\n",
    "\n",
    "#v = v0 + u*ln(m0/m) - gt\n",
    "isp = 310\n",
    "g = -9.8\n",
    "\n",
    "\n",
    "\n",
    "\n",
    "Veq = isp * g\n",
    "def du(t):\n",
    "    if m_fuel(t) > 0: \n",
    "        return (((-Veq * fuel_burned_per_second) * number_of_engines) / m(t)) + g\n",
    "    else: \n",
    "        return g #- drag\n",
    "    \n",
    "print(du(1))\n",
    "print(du(2))  \n",
    "print(du(3))  \n",
    "print(du(4))  \n",
    "print(du(5))  \n",
    "print(du(6))  \n",
    "print(du(7))  \n",
    "#print(temp(altitude(0)))\n",
    "import scipy.integrate as integrate\n",
    "\n",
    "def vel(t):\n",
    "    if (t <= 0):\n",
    "        return 0\n",
    "    else:\n",
    "        return integrate.quad(lambda x: du(x), 0, t)[0]\n",
    "\n",
    "def altitude(t):\n",
    "    if (t <= 0):\n",
    "        return 0\n",
    "    else:\n",
    "        return integrate.quad(lambda x: vel(x), 0, t)[0]\n",
    "\n",
    "\n",
    "#print(altitude(2))\n",
    "\n",
    "def temp(altitude):\n",
    "    if (altitude < 11000):\n",
    "        temp = 15.04 - 0.00649 * altitude\n",
    "    elif (11000 <= altitude < 25000):\n",
    "        temp = -56.45\n",
    "    elif (25000 <= altitude < 50000):\n",
    "        temp = -131.21 + 0.0299 * altitude\n",
    "    else:\n",
    "        temp = -100\n",
    "    return temp\n",
    "\n",
    "def pressure(altitude):\n",
    "    if (altitude < 11000):\n",
    "        temp = 15.04 - 0.00649 * altitude\n",
    "        pressure = 101.29 * ((temp + 273.1) / 288.08)**5.256\n",
    "    elif (11000 <= altitude < 25000):\n",
    "        temp = -56.45\n",
    "        pressure = 22.65 * math.e ** (1.73 - 0.000157 * altitude)\n",
    "    elif (25000 <= altitude < 50000):\n",
    "        temp = -131.21 + 0.0299 * altitude\n",
    "        pressure = 2.488 * ((temp + 273.1) / 216.6)**-11.388\n",
    "    else:\n",
    "        temp = -100\n",
    "        pressure = -1\n",
    "    return pressure\n",
    "\n",
    "\n",
    "def rho(pressure, temp):\n",
    "    if pressure == -1:\n",
    "        return 0\n",
    "    return pressure / (0.2869 * (temp + 273.1))\n",
    "\n",
    "from decimal import *\n",
    "def drag(alt, vel):\n",
    "    Cd = 1.28\n",
    "    A = 5\n",
    "    #getcontext().prec = 6\n",
    "    return (0.5 * rho(temp(alt), pressure(alt)) * vel**2 * Cd * A)\n",
    "\n",
    "\n",
    "\n",
    "\n",
    "time_list = []\n",
    "fuel_list = []\n",
    "mass_list = []\n",
    "accel_list = []\n",
    "velocity_list = []\n",
    "pos_list = []\n",
    "rho_list = []\n",
    "drag_list = []\n",
    "drag_acc = [0.]\n",
    "\n",
    "\n",
    "\n",
    "\n",
    "for time in range(1, 500):\n",
    "    time_list.append(time)\n",
    "    fuel_list.append(m_fuel(time))\n",
    "    mass_list.append(m(time))\n",
    "    accel_list.append(du(time) - drag_acc[time - 1])\n",
    "    velocity_list.append(sum(accel_list))\n",
    "    pos_list.append(sum(velocity_list))\n",
    "    rho_list.append(rho(pressure(pos_list[time - 1]), temp(pos_list[time - 1])))\n",
    "    drag_list.append(drag(pos_list[time - 1], velocity_list[time - 1]))\n",
    "    drag_acc.append(drag_list[time - 1] / mass_list[time - 1])\n",
    "\n",
    "#print(drag_acc)\n",
    "#print(rho_list)\n",
    "print(velocity_list)\n",
    "\"\"\"    \n",
    "time_range = [t for t in range(500)]\n",
    "print(\"finished time range\")\n",
    "fuel_range = [max(a, 0) for a in range(10000, -40000, -100)]\n",
    "print(\"finished fuel range\")\n",
    "mass_range = [m(time) for time in time_range]\n",
    "print(\"finished mass range\")\n",
    "acceleration_range = [du(time) for time in time_range]\n",
    "print(\"finished accel range\")\n",
    "velocity_range = [sum(acceleration_range[:n]) for n in range(len(acceleration_range))]\n",
    "print(\"finished velocity range\")\n",
    "position_range = [sum(velocity_range[:n]) for n in range(len(velocity_range))]\n",
    "print(\"finished position_range\")\n",
    "rho_range = [rho(pressure(alt), temp(alt)) for alt in position_range]\n",
    "print(\"finished rho range\")\n",
    "\"\"\"\n",
    "#Cd = 1.28\n",
    "#A = 283280\n",
    "#p = rho\n",
    "#v = v**2\n",
    "\n",
    "#print(position_range[440])\n",
    "#Fd = 0.5 * p * v**2 * Cd * A\n",
    "#altitude -> temperature -> pressure -> rho\n",
    "\n",
    "#print(len(time_range))\n",
    "#print(len(position_range))\n",
    "fig3 = plt.figure()\n",
    "ax3 = fig3.add_subplot(111)\n",
    "plt.title(\"Rocket height\"); \n",
    "plt.plot(time_list, pos_list)\n",
    "plt.figure()\n",
    "plt.title(\"Rocket velocity\"); \n",
    "plt.plot(time_list, velocity_list)\n",
    "plt.figure()\n",
    "plt.title(\"Rocket acceleration\"); \n",
    "plt.plot(time_list, accel_list)\n",
    "plt.figure()\n",
    "plt.title(\"Rocket mass\"); \n",
    "plt.plot(time_list, mass_list)\n",
    "plt.figure()\n",
    "plt.title(\"Rocket fuel\"); \n",
    "plt.plot(time_list, fuel_list)\n",
    "\n",
    "#def v(t):\n",
    "#    if t == 0:\n",
    "#        return 0\n",
    "#    else:\n",
    "#        v = u * math.log(m + max_fuel / m)\n",
    "#        return v + v(t-1)\n",
    "    \n",
    "#v(t) = v(t-1)\n",
    "\n",
    "\n",
    "\n",
    "v0 = 0\n",
    "u = -310\n",
    "\n",
    "\n"
   ]
  },
  {
   "cell_type": "code",
   "execution_count": 65,
   "metadata": {
    "collapsed": false
   },
   "outputs": [
    {
     "data": {
      "text/plain": [
       "0"
      ]
     },
     "execution_count": 65,
     "metadata": {},
     "output_type": "execute_result"
    }
   ],
   "source": [
    "[0][-1]"
   ]
  },
  {
   "cell_type": "markdown",
   "metadata": {},
   "source": [
    "import sys\n",
    "sys.maxsize"
   ]
  },
  {
   "cell_type": "code",
   "execution_count": 84,
   "metadata": {
    "collapsed": false
   },
   "outputs": [
    {
     "data": {
      "text/plain": [
       "1.7976931348623157e+308"
      ]
     },
     "execution_count": 84,
     "metadata": {},
     "output_type": "execute_result"
    }
   ],
   "source": [
    "import sys\n",
    "sys.float_info.max"
   ]
  },
  {
   "cell_type": "code",
   "execution_count": null,
   "metadata": {
    "collapsed": true
   },
   "outputs": [],
   "source": []
  }
 ],
 "metadata": {
  "anaconda-cloud": {},
  "kernelspec": {
   "display_name": "Python [IntroToTensorFlow]",
   "language": "python",
   "name": "Python [IntroToTensorFlow]"
  },
  "language_info": {
   "codemirror_mode": {
    "name": "ipython",
    "version": 3
   },
   "file_extension": ".py",
   "mimetype": "text/x-python",
   "name": "python",
   "nbconvert_exporter": "python",
   "pygments_lexer": "ipython3",
   "version": "3.5.4"
  }
 },
 "nbformat": 4,
 "nbformat_minor": 2
}
